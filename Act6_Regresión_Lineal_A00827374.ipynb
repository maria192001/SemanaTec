{
  "nbformat": 4,
  "nbformat_minor": 0,
  "metadata": {
    "colab": {
      "name": "Act6_Regresión Lineal_A00827374.ipynb",
      "provenance": [],
      "collapsed_sections": [],
      "include_colab_link": true
    },
    "kernelspec": {
      "display_name": "Python 3",
      "language": "python",
      "name": "python3"
    },
    "language_info": {
      "codemirror_mode": {
        "name": "ipython",
        "version": 3
      },
      "file_extension": ".py",
      "mimetype": "text/x-python",
      "name": "python",
      "nbconvert_exporter": "python",
      "pygments_lexer": "ipython3",
      "version": "3.8.5"
    }
  },
  "cells": [
    {
      "cell_type": "markdown",
      "metadata": {
        "id": "view-in-github",
        "colab_type": "text"
      },
      "source": [
        "<a href=\"https://colab.research.google.com/github/maria192001/SemanaTec/blob/main/Act6_Regresio%CC%81n_Lineal_A00827374.ipynb\" target=\"_parent\"><img src=\"https://colab.research.google.com/assets/colab-badge.svg\" alt=\"Open In Colab\"/></a>"
      ]
    },
    {
      "cell_type": "markdown",
      "metadata": {
        "id": "NAGZIGX35a8I"
      },
      "source": [
        "# Actividad\n",
        "\n",
        "- **Nombre**: María Paula García García\n",
        "- **Matrícula**: A00827374\n",
        "\n",
        "# Entregar \n",
        "Archivo PDF de la actividad y la liga de la actividad en su repostitorio.\n",
        "\n",
        "# Nota: \n",
        "Todas las tareas entregadas fuera de la fecha limite se califican sobre 50 de los 100 puntos posibles.\n"
      ]
    },
    {
      "cell_type": "markdown",
      "metadata": {
        "id": "A6u_Q2Jwxn7Q"
      },
      "source": [
        "**Presion Arterial**"
      ]
    },
    {
      "cell_type": "markdown",
      "metadata": {
        "id": "aZ8qy6Ir5c8X"
      },
      "source": [
        "1. Carga los datos del archivo **presion.csv**"
      ]
    },
    {
      "cell_type": "code",
      "metadata": {
        "id": "ahNyt07-5ijr",
        "colab": {
          "base_uri": "https://localhost:8080/",
          "height": 0
        },
        "outputId": "4233a0c4-9fa9-409f-9821-3d0648a152ef"
      },
      "source": [
        "from google.colab import drive\n",
        "drive.mount('/content/drive/')"
      ],
      "execution_count": 1,
      "outputs": [
        {
          "output_type": "stream",
          "text": [
            "Mounted at /content/drive/\n"
          ],
          "name": "stdout"
        }
      ]
    },
    {
      "cell_type": "code",
      "metadata": {
        "colab": {
          "base_uri": "https://localhost:8080/",
          "height": 0
        },
        "id": "cFi8e9btbyMC",
        "outputId": "839eff97-28eb-4bc6-c27e-4dc8dd536a5d"
      },
      "source": [
        "%cd 'drive/MyDrive/ST_herramientas: arte-analitica-main'"
      ],
      "execution_count": 2,
      "outputs": [
        {
          "output_type": "stream",
          "text": [
            "/content/drive/MyDrive/ST_herramientas: arte-analitica-main\n"
          ],
          "name": "stdout"
        }
      ]
    },
    {
      "cell_type": "code",
      "metadata": {
        "colab": {
          "base_uri": "https://localhost:8080/",
          "height": 162
        },
        "id": "eyGzDENSb_j2",
        "outputId": "013b7ae2-a5d3-4ff6-8097-fc75fc26c1fe"
      },
      "source": [
        "%matplotlib inline\n",
        "import pandas as pd\n",
        "import numpy as np\n",
        "import matplotlib.pyplot as plt\n",
        "import seaborn as sns\n",
        "sns.set()\n",
        "\n",
        "presion_df = pd.read_csv('data/presion.csv')\n",
        "presion_df.head(4)"
      ],
      "execution_count": 3,
      "outputs": [
        {
          "output_type": "execute_result",
          "data": {
            "text/html": [
              "<div>\n",
              "<style scoped>\n",
              "    .dataframe tbody tr th:only-of-type {\n",
              "        vertical-align: middle;\n",
              "    }\n",
              "\n",
              "    .dataframe tbody tr th {\n",
              "        vertical-align: top;\n",
              "    }\n",
              "\n",
              "    .dataframe thead th {\n",
              "        text-align: right;\n",
              "    }\n",
              "</style>\n",
              "<table border=\"1\" class=\"dataframe\">\n",
              "  <thead>\n",
              "    <tr style=\"text-align: right;\">\n",
              "      <th></th>\n",
              "      <th>edad</th>\n",
              "      <th>presion</th>\n",
              "      <th>Unnamed: 2</th>\n",
              "    </tr>\n",
              "  </thead>\n",
              "  <tbody>\n",
              "    <tr>\n",
              "      <th>0</th>\n",
              "      <td>56</td>\n",
              "      <td>148</td>\n",
              "      <td>NaN</td>\n",
              "    </tr>\n",
              "    <tr>\n",
              "      <th>1</th>\n",
              "      <td>45</td>\n",
              "      <td>120</td>\n",
              "      <td>NaN</td>\n",
              "    </tr>\n",
              "    <tr>\n",
              "      <th>2</th>\n",
              "      <td>72</td>\n",
              "      <td>159</td>\n",
              "      <td>NaN</td>\n",
              "    </tr>\n",
              "    <tr>\n",
              "      <th>3</th>\n",
              "      <td>36</td>\n",
              "      <td>118</td>\n",
              "      <td>NaN</td>\n",
              "    </tr>\n",
              "  </tbody>\n",
              "</table>\n",
              "</div>"
            ],
            "text/plain": [
              "   edad  presion  Unnamed: 2\n",
              "0    56      148         NaN\n",
              "1    45      120         NaN\n",
              "2    72      159         NaN\n",
              "3    36      118         NaN"
            ]
          },
          "metadata": {
            "tags": []
          },
          "execution_count": 3
        }
      ]
    },
    {
      "cell_type": "markdown",
      "metadata": {
        "id": "J8x9l3sd5jYI"
      },
      "source": [
        "2. Gráfica la información en el eje de las x la edad  y en el eje y la presión\n"
      ]
    },
    {
      "cell_type": "code",
      "metadata": {
        "id": "qCbTiXd45qr0",
        "colab": {
          "base_uri": "https://localhost:8080/",
          "height": 377
        },
        "outputId": "ec9a88f2-f6eb-49a7-940e-594fc11b8fc5"
      },
      "source": [
        "fig = plt.figure(figsize=(8, 6))\n",
        "x = presion_df['edad']\n",
        "y = presion_df['presion']\n",
        "plt.scatter(x, y);"
      ],
      "execution_count": 4,
      "outputs": [
        {
          "output_type": "display_data",
          "data": {
            "image/png": "[encoded data removed]",
            "text/plain": [
              "<Figure size 576x432 with 1 Axes>"
            ]
          },
          "metadata": {
            "tags": []
          }
        }
      ]
    },
    {
      "cell_type": "markdown",
      "metadata": {
        "id": "Ha4fEpQ_5roa"
      },
      "source": [
        "3. Genera una regresión logistica para obtener una aproximación de la ecuación \n",
        "$$\n",
        "y = ax + b\n",
        "$$\n",
        "donde $ a $ se conoce comúnmente como * pendiente *, y $ b $ se conoce comúnmente como * intersección *.\n",
        "\n",
        "¿Cuál es el valor de a y cuál es el valor de b?"
      ]
    },
    {
      "cell_type": "code",
      "metadata": {
        "id": "BIcuqKya6zHY",
        "colab": {
          "base_uri": "https://localhost:8080/",
          "height": 0
        },
        "outputId": "a82e5574-9303-4048-f696-5b9805f003cc"
      },
      "source": [
        "from sklearn.linear_model import LinearRegression\n",
        "model = LinearRegression(fit_intercept=True)\n",
        "model.fit(x[:, np.newaxis], y)\n",
        "print(\"Model slope (a):    \", model.coef_[0])\n",
        "print(\"Model intercept (b):\", model.intercept_)"
      ],
      "execution_count": 5,
      "outputs": [
        {
          "output_type": "stream",
          "text": [
            "Model slope (a):     1.1483331897665603\n",
            "Model intercept (b): 79.36850719269533\n"
          ],
          "name": "stdout"
        },
        {
          "output_type": "stream",
          "text": [
            "/usr/local/lib/python3.7/dist-packages/ipykernel_launcher.py:3: FutureWarning: Support for multi-dimensional indexing (e.g. `obj[:, None]`) is deprecated and will be removed in a future version.  Convert to a numpy array before indexing instead.\n",
            "  This is separate from the ipykernel package so we can avoid doing imports until\n"
          ],
          "name": "stderr"
        }
      ]
    },
    {
      "cell_type": "markdown",
      "metadata": {
        "id": "OGwecRAP6zSc"
      },
      "source": [
        "4. Gráfica los datos reales vs modelo obtenido. \n",
        "\n",
        "Se debe visualizar los datos reales ( azules) \n",
        "Recta del modelo ( negra) \n",
        "Distancias ( verde ) "
      ]
    },
    {
      "cell_type": "code",
      "metadata": {
        "id": "hhStTwBE64m_",
        "colab": {
          "base_uri": "https://localhost:8080/",
          "height": 320
        },
        "outputId": "1c775a62-7e74-439c-c110-366f45c781e1"
      },
      "source": [
        "xfit = np.linspace(30, 75, 1000)\n",
        "yfit = model.predict(xfit[:, np.newaxis])\n",
        "plt.scatter(x, y)\n",
        "plt.plot(xfit, yfit, color=\"black\");\n",
        "plt.plot(x,y, 'o')\n",
        "plt.plot(np.vstack([x,x]), np.vstack([y, model.predict(x[:, np.newaxis])]), color=\"green\");"
      ],
      "execution_count": 6,
      "outputs": [
        {
          "output_type": "stream",
          "text": [
            "/usr/local/lib/python3.7/dist-packages/ipykernel_launcher.py:6: FutureWarning: Support for multi-dimensional indexing (e.g. `obj[:, None]`) is deprecated and will be removed in a future version.  Convert to a numpy array before indexing instead.\n",
            "  \n"
          ],
          "name": "stderr"
        },
        {
          "output_type": "display_data",
          "data": {
            "image/png": "[encoded data removed]",
            "text/plain": [
              "<Figure size 432x288 with 1 Axes>"
            ]
          },
          "metadata": {
            "tags": []
          }
        }
      ]
    },
    {
      "cell_type": "markdown",
      "metadata": {
        "id": "oZhvlIU57ECO"
      },
      "source": [
        "4. ¿Cuál es la presión arterial esperada para una persona de 76 años?\n",
        "\n",
        "Genera una función que calcule lo anterior"
      ]
    },
    {
      "cell_type": "code",
      "metadata": {
        "id": "AAorqUTv7LjX",
        "colab": {
          "base_uri": "https://localhost:8080/",
          "height": 0
        },
        "outputId": "ec15b56c-f454-4e27-c455-87ae6bba0646"
      },
      "source": [
        "edad_calcular= 76\n",
        "def presion(edad):\n",
        "  return model.coef_[0]*edad + model.intercept_\n",
        "\n",
        "presion(edad_calcular)"
      ],
      "execution_count": 7,
      "outputs": [
        {
          "output_type": "execute_result",
          "data": {
            "text/plain": [
              "166.6418296149539"
            ]
          },
          "metadata": {
            "tags": []
          },
          "execution_count": 7
        }
      ]
    },
    {
      "cell_type": "markdown",
      "metadata": {
        "id": "QpeT5QCaxtMi"
      },
      "source": [
        "**Ventas de mi negocio**\n",
        "\n",
        "Nuestro objetivo será contruir un modelo que prediga las ventas del producto dependiendo de cuánto presupuesto se gaste en cada medio."
      ]
    },
    {
      "cell_type": "markdown",
      "metadata": {
        "id": "erS5zKSGx9SS"
      },
      "source": [
        "1. Carga los datos del archivo AdvmiNegocio.csv"
      ]
    },
    {
      "cell_type": "code",
      "metadata": {
        "id": "waoWhXhsyTIW",
        "colab": {
          "base_uri": "https://localhost:8080/",
          "height": 191
        },
        "outputId": "088ab7f0-7056-4e77-a60d-8f8195b82535"
      },
      "source": [
        "negocio_df = pd.read_csv('data/AdvmiNegocio.csv')\n",
        "negocio_df = negocio_df.iloc[:, 1::]\n",
        "negocio_df.head()"
      ],
      "execution_count": 8,
      "outputs": [
        {
          "output_type": "execute_result",
          "data": {
            "text/html": [
              "<div>\n",
              "<style scoped>\n",
              "    .dataframe tbody tr th:only-of-type {\n",
              "        vertical-align: middle;\n",
              "    }\n",
              "\n",
              "    .dataframe tbody tr th {\n",
              "        vertical-align: top;\n",
              "    }\n",
              "\n",
              "    .dataframe thead th {\n",
              "        text-align: right;\n",
              "    }\n",
              "</style>\n",
              "<table border=\"1\" class=\"dataframe\">\n",
              "  <thead>\n",
              "    <tr style=\"text-align: right;\">\n",
              "      <th></th>\n",
              "      <th>Redes</th>\n",
              "      <th>Youtube</th>\n",
              "      <th>TV</th>\n",
              "      <th>sales</th>\n",
              "    </tr>\n",
              "  </thead>\n",
              "  <tbody>\n",
              "    <tr>\n",
              "      <th>0</th>\n",
              "      <td>6903</td>\n",
              "      <td>1134</td>\n",
              "      <td>2076</td>\n",
              "      <td>663</td>\n",
              "    </tr>\n",
              "    <tr>\n",
              "      <th>1</th>\n",
              "      <td>1335</td>\n",
              "      <td>1179</td>\n",
              "      <td>1353</td>\n",
              "      <td>312</td>\n",
              "    </tr>\n",
              "    <tr>\n",
              "      <th>2</th>\n",
              "      <td>516</td>\n",
              "      <td>1377</td>\n",
              "      <td>2079</td>\n",
              "      <td>279</td>\n",
              "    </tr>\n",
              "    <tr>\n",
              "      <th>3</th>\n",
              "      <td>4545</td>\n",
              "      <td>1239</td>\n",
              "      <td>1755</td>\n",
              "      <td>555</td>\n",
              "    </tr>\n",
              "    <tr>\n",
              "      <th>4</th>\n",
              "      <td>5424</td>\n",
              "      <td>324</td>\n",
              "      <td>1752</td>\n",
              "      <td>387</td>\n",
              "    </tr>\n",
              "  </tbody>\n",
              "</table>\n",
              "</div>"
            ],
            "text/plain": [
              "   Redes  Youtube    TV  sales\n",
              "0   6903     1134  2076    663\n",
              "1   1335     1179  1353    312\n",
              "2    516     1377  2079    279\n",
              "3   4545     1239  1755    555\n",
              "4   5424      324  1752    387"
            ]
          },
          "metadata": {
            "tags": []
          },
          "execution_count": 8
        }
      ]
    },
    {
      "cell_type": "markdown",
      "metadata": {
        "id": "KQYRlwotyTXh"
      },
      "source": [
        "2. Generar una grafica para visuaizar  cómo se relaciona cada columna de presupuesto contra las ventas. De mi negocio. ( Redes,Youtube,TV)\n"
      ]
    },
    {
      "cell_type": "code",
      "metadata": {
        "id": "3x5005GpygO5",
        "colab": {
          "base_uri": "https://localhost:8080/",
          "height": 301
        },
        "outputId": "aa356435-d965-4079-9fd8-f7b73173759d"
      },
      "source": [
        "fig, axs = plt.subplots(1, 3, figsize=(15,4))\n",
        "\n",
        "# Redes\n",
        "sns.scatterplot(data=negocio_df, x='Redes',y='sales', ax=axs[0])\n",
        "# Youtube\n",
        "sns.scatterplot(data=negocio_df, x='Youtube',y='sales', ax=axs[1], color='red')\n",
        "# TV\n",
        "sns.scatterplot(data=negocio_df, x='TV',y='sales', ax=axs[2], color='green')"
      ],
      "execution_count": 9,
      "outputs": [
        {
          "output_type": "execute_result",
          "data": {
            "text/plain": [
              "<matplotlib.axes._subplots.AxesSubplot at 0x7f89e01ee210>"
            ]
          },
          "metadata": {
            "tags": []
          },
          "execution_count": 9
        },
        {
          "output_type": "display_data",
          "data": {
            "image/png": "[encoded data removed]",
            "text/plain": [
              "<Figure size 1080x288 with 3 Axes>"
            ]
          },
          "metadata": {
            "tags": []
          }
        }
      ]
    },
    {
      "cell_type": "markdown",
      "metadata": {
        "id": "rrREuedNygXw"
      },
      "source": [
        "3. ¿ Qué conclusiones puedes obtener de las graficas anteriores?"
      ]
    },
    {
      "cell_type": "markdown",
      "metadata": {
        "id": "Ap42szXtyoiK"
      },
      "source": [
        "Se puede obtener lo siguiente:\n",
        "* Las ventas incrementan proporcionalmente con el presupuesto que se se le invierte a las redes.\n",
        "* Las ventas igual incrementan con el presupuesto de Youtube, sin embargo existe más variación. \n",
        "* La relación presupuesto de TV-ventas es muy difusa."
      ]
    },
    {
      "cell_type": "markdown",
      "metadata": {
        "id": "U09F1JeRyuIq"
      },
      "source": [
        "4. **Regresión lineal**. En su forma más simple, consiste en asumir que una variable $x$ y una variable $y$ presentan una relación lineal de la forma:\n",
        "\n",
        "$$ y \\approx \\beta_0 + \\beta_1 \\cdot x$$\n",
        "\n",
        "¿Cuál es el valor de beta_0 , beta_1 y el Score  para Redes vs Ventas, TV vs Ventas y YouTube vs Ventas?"
      ]
    },
    {
      "cell_type": "code",
      "metadata": {
        "colab": {
          "base_uri": "https://localhost:8080/",
          "height": 0
        },
        "id": "5yj_r4ZVcu4a",
        "outputId": "c66528b3-c5a5-4f5d-e565-9690830de5b6"
      },
      "source": [
        "from sklearn.linear_model import LinearRegression\n",
        "\n",
        "# Redes\n",
        "lm1 = LinearRegression()\n",
        "lm1.fit(negocio_df[['Redes']], negocio_df['sales'])\n",
        "print('Redes')\n",
        "print('beta_0: ', lm1.intercept_)\n",
        "print('beta_1: ', lm1.coef_)\n",
        "print('Score: ', lm1.score(negocio_df[['Redes']], negocio_df['sales']), '\\n')\n",
        "\n",
        "# Youtube\n",
        "lm2 = LinearRegression()\n",
        "lm2.fit(negocio_df[['Youtube']], negocio_df['sales'])\n",
        "print('Youtube')\n",
        "print('beta_0: ', lm2.intercept_)\n",
        "print('beta_1: ', lm2.coef_)\n",
        "print('Score: ', lm2.score(negocio_df[['Youtube']], negocio_df['sales']), '\\n')\n",
        "\n",
        "# TV\n",
        "lm3 = LinearRegression()\n",
        "lm3.fit(negocio_df[['TV']], negocio_df['sales'])\n",
        "print('TV')\n",
        "print('beta_0: ', lm3.intercept_)\n",
        "print('beta_1: ', lm3.coef_)\n",
        "print('Score: ', lm3.score(negocio_df[['TV']], negocio_df['sales']))"
      ],
      "execution_count": 10,
      "outputs": [
        {
          "output_type": "stream",
          "text": [
            "Redes\n",
            "beta_0:  210.97780647383084\n",
            "beta_1:  [0.04753664]\n",
            "Score:  0.611875050850071 \n",
            "\n",
            "Youtube\n",
            "beta_0:  279.3491428547485\n",
            "beta_1:  [0.20249578]\n",
            "Score:  0.33203245544529536 \n",
            "\n",
            "TV\n",
            "beta_0:  370.5422120783448\n",
            "beta_1:  [0.0546931]\n",
            "Score:  0.05212044544430494\n"
          ],
          "name": "stdout"
        }
      ]
    },
    {
      "cell_type": "markdown",
      "metadata": {
        "id": "er8aCv1l0FQK"
      },
      "source": [
        "5. ¿Cuál de los modelos es mejor de acuerdo al score ordenalos del mejor al peor?\n"
      ]
    },
    {
      "cell_type": "markdown",
      "metadata": {
        "id": "lHsvGYUMc5t5"
      },
      "source": [
        "El mejor score es el de Redes, siendo el segundo mejor el correspondiente a Youtube y el peor aquel de TV."
      ]
    },
    {
      "cell_type": "markdown",
      "metadata": {
        "id": "56LBN0_d0OAC"
      },
      "source": [
        "6.  **Regresión lineal múltiple**. Como ahora vamos a incluir más de una variable, el modelo se rescribe a :\n",
        "\n",
        "$$ \\hat{y} = \\hat{\\beta}_0 + \\hat{\\beta}_1 \\cdot x_1 + \\hat{\\beta}_2 \\cdot x_2 + \\hat{\\beta}_3\\cdot x_3 + \\ldots \\epsilon $$\n",
        "\n",
        "Elige  las diferentes combinaciones de variables. Ejemplo: Redes y Youtube vs Ventas \n",
        "\n",
        "¿Cuál es el valor de beta_0, betas_1 , beta_2 , el score y el score ajustado?\n",
        "\n"
      ]
    },
    {
      "cell_type": "code",
      "metadata": {
        "id": "L7d5PLgcdAc_"
      },
      "source": [
        "# Definimos una función para calcular R^2.\n",
        "def score_adj(X, y, model):\n",
        "    return 1 - (1-model.score(X, y))*(len(y)-1)/(len(y)-X.shape[1]-1)"
      ],
      "execution_count": 14,
      "outputs": []
    },
    {
      "cell_type": "code",
      "metadata": {
        "colab": {
          "base_uri": "https://localhost:8080/",
          "height": 0
        },
        "id": "LYe8MWqEdEQ0",
        "outputId": "41d6ed94-7410-4cd6-8f7f-3bc11f7ea3da"
      },
      "source": [
        "# Vamos a comparar los modelos nuevamente con R2 ajustada\n",
        "# Redes  y Youtube\n",
        "print('Redes y Youtube')\n",
        "lm4 = LinearRegression()\n",
        "lm4.fit(negocio_df[['Redes', 'Youtube']], negocio_df['sales'])\n",
        "print('beta_0: ', lm4.intercept_)\n",
        "print('beta_1: ', lm4.coef_[0])\n",
        "print('beta_2 ',lm4.coef_[1])\n",
        "print('Score: ', lm4.score(negocio_df[['Redes', 'Youtube']], negocio_df['sales']))\n",
        "print('Score ajustado:', score_adj(negocio_df[['Redes', 'Youtube']], negocio_df['sales'], lm4), '\\n')\n",
        "\n",
        "# Redes y TV\n",
        "print('Redes y TV')\n",
        "lm5 = LinearRegression()\n",
        "lm5.fit(negocio_df[['Redes','TV']], negocio_df['sales'])\n",
        "print('beta_0: ', lm5.intercept_)\n",
        "print('beta_1: ', lm5.coef_[0])\n",
        "print('beta_2: ', lm5.coef_[1])\n",
        "print('Score: ', lm5.score(negocio_df[['Redes','TV']], negocio_df['sales']))\n",
        "print('Score ajustado:', score_adj(negocio_df[['Redes', 'TV']], negocio_df['sales'], lm5), '\\n')\n",
        "\n",
        "# Youtube y TV\n",
        "print('Youtube y TV')\n",
        "lm6 = LinearRegression()\n",
        "lm6.fit(negocio_df[['Youtube','TV']], negocio_df['sales'])\n",
        "print('beta_0: ', lm6.intercept_)\n",
        "print('beta_1: ', lm6.coef_[0])\n",
        "print('beta_2: ', lm6.coef_[1])\n",
        "print('Score: ', lm6.score(negocio_df[['Youtube','TV']], negocio_df['sales']))\n",
        "print('Score ajustado:', score_adj(negocio_df[['Youtube', 'TV']], negocio_df['sales'], lm6), '\\n')\n",
        "\n",
        "# Comparar el modelo con las tres variables\n",
        "lm7 = LinearRegression()\n",
        "lm7.fit(negocio_df[['Redes','Youtube','TV']], negocio_df['sales'])\n",
        "print('Redes, Youtube y TV')\n",
        "print('beta_0: ', lm7.intercept_)\n",
        "print('beta_1: ', lm7.coef_[0])\n",
        "print('beta_2: ', lm7.coef_[1])\n",
        "print('Score: ', lm7.score(negocio_df[['Redes','Youtube','TV']], negocio_df['sales']))\n",
        "print('Score ajustado:', score_adj(negocio_df[['Redes','Youtube', 'TV']], negocio_df['sales'], lm7))"
      ],
      "execution_count": 15,
      "outputs": [
        {
          "output_type": "stream",
          "text": [
            "Redes y Youtube\n",
            "beta_0:  87.63299737215414\n",
            "beta_1:  0.045754815101076145\n",
            "beta_2  0.1879942266203092\n",
            "Score:  0.8971942610828956\n",
            "Score ajustado: 0.8961505479974428 \n",
            "\n",
            "Redes y TV\n",
            "beta_0:  173.24843903734896\n",
            "beta_1:  0.04690121389190708\n",
            "beta_2:  0.04421942424519284\n",
            "Score:  0.6458354938293271\n",
            "Score ajustado: 0.6422399150864777 \n",
            "\n",
            "Youtube y TV\n",
            "beta_0:  275.66761377589694\n",
            "beta_1:  0.19904459389696902\n",
            "beta_2:  0.006644174523281712\n",
            "Score:  0.33270518395032256\n",
            "Score ajustado: 0.3259306172899198 \n",
            "\n",
            "Redes, Youtube y TV\n",
            "beta_0:  88.16668108378224\n",
            "beta_1:  0.045764645455397615\n",
            "beta_2:  0.1885300169182045\n",
            "Score:  0.8972106381789521\n",
            "Score ajustado: 0.8956373316204667\n"
          ],
          "name": "stdout"
        }
      ]
    },
    {
      "cell_type": "markdown",
      "metadata": {
        "id": "C6bsCdYP1jd5"
      },
      "source": [
        "7.  ¿Cuál modelo es el que nos conviene elegir?"
      ]
    },
    {
      "cell_type": "markdown",
      "metadata": {
        "id": "iVZeSnvp1qUa"
      },
      "source": [
        "Aunque el score simple es mayor en el caso de los 3 medios juntos, el score ajustado en el caso de Redes y Youtube es mayor, ya que el score ajustado es el que más se parece a la realidad en el caso de más de una variable, y mientras mayor sea este porcentaje de variabilidad mejor es el modelo, podemos concluir que el modelo que nos conviene elegir es aquel de Redes y Youtube."
      ]
    }
  ]
}